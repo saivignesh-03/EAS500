{
 "cells": [
  {
   "cell_type": "code",
   "execution_count": 10,
   "id": "a8e1ca03-2d40-462c-9ee4-f91ab11daf76",
   "metadata": {},
   "outputs": [
    {
     "name": "stdout",
     "output_type": "stream",
     "text": [
      "The autoreload extension is already loaded. To reload it, use:\n",
      "  %reload_ext autoreload\n"
     ]
    }
   ],
   "source": [
    "%load_ext autoreload\n",
    "%autoreload 2"
   ]
  },
  {
   "cell_type": "code",
   "execution_count": 11,
   "id": "493ff467-b42a-449a-a50c-06fd5df84cc6",
   "metadata": {},
   "outputs": [],
   "source": [
    "import sys\n",
    "import os\n",
    "\n",
    "# Add the parent directory to the Python path\n",
    "sys.path.append(os.path.abspath(os.path.join(os.getcwd(), \"..\")))\n",
    "import src.config as config"
   ]
  },
  {
   "cell_type": "code",
   "execution_count": 12,
   "id": "8947bd33-ba13-41b3-a338-fd2c9a5fd8c2",
   "metadata": {},
   "outputs": [],
   "source": [
    "from src.inference import get_feature_store"
   ]
  },
  {
   "cell_type": "code",
   "execution_count": 13,
   "id": "e84b4c69-865a-44b6-adea-b3552497dcfc",
   "metadata": {},
   "outputs": [
    {
     "name": "stdout",
     "output_type": "stream",
     "text": [
      "2025-03-03 23:05:45,433 INFO: Closing external client and cleaning up certificates.\n",
      "Connection closed.\n",
      "2025-03-03 23:05:45,443 INFO: Initializing external client\n",
      "2025-03-03 23:05:45,445 INFO: Base URL: https://c.app.hopsworks.ai:443\n",
      "2025-03-03 23:05:46,416 INFO: Python Engine initialized.\n",
      "\n",
      "Logged in to project, explore it here https://c.app.hopsworks.ai:443/p/1215673\n",
      "Fetching data from 2025-02-04 04:05:45.433813+00:00 to 2025-03-04 03:05:45.433813+00:00\n",
      "Finished: Reading data from Hopsworks, using Hopsworks Feature Query Service (4.37s) \n"
     ]
    }
   ],
   "source": [
    "from datetime import datetime, timedelta\n",
    "import pandas as pd  \n",
    "\n",
    "# Get the current datetime64[us, Etc/UTC]  \n",
    "current_date = pd.Timestamp.now(tz='Etc/UTC')\n",
    "feature_store = get_feature_store()\n",
    "\n",
    "# read time-series data from the feature store\n",
    "fetch_data_to = current_date - timedelta(hours=1)\n",
    "fetch_data_from = current_date - timedelta(days=1*28)\n",
    "print(f\"Fetching data from {fetch_data_from} to {fetch_data_to}\")\n",
    "feature_view = feature_store.get_feature_view(\n",
    "    name=config.FEATURE_VIEW_NAME, version=config.FEATURE_VIEW_VERSION\n",
    ")\n",
    "\n",
    "ts_data = feature_view.get_batch_data(\n",
    "    start_time=(fetch_data_from - timedelta(days=1)),\n",
    "    end_time=(fetch_data_to + timedelta(days=1)),\n",
    ")\n",
    "ts_data = ts_data[ts_data.pickup_hour.between(fetch_data_from, fetch_data_to)]"
   ]
  },
  {
   "cell_type": "code",
   "execution_count": 14,
   "id": "038b084f-4f9e-43f1-8fc1-ac5995b62fc6",
   "metadata": {},
   "outputs": [
    {
     "data": {
      "text/html": [
       "<div>\n",
       "<style scoped>\n",
       "    .dataframe tbody tr th:only-of-type {\n",
       "        vertical-align: middle;\n",
       "    }\n",
       "\n",
       "    .dataframe tbody tr th {\n",
       "        vertical-align: top;\n",
       "    }\n",
       "\n",
       "    .dataframe thead th {\n",
       "        text-align: right;\n",
       "    }\n",
       "</style>\n",
       "<table border=\"1\" class=\"dataframe\">\n",
       "  <thead>\n",
       "    <tr style=\"text-align: right;\">\n",
       "      <th></th>\n",
       "      <th>pickup_hour</th>\n",
       "      <th>pickup_location_id</th>\n",
       "      <th>rides</th>\n",
       "    </tr>\n",
       "  </thead>\n",
       "  <tbody>\n",
       "  </tbody>\n",
       "</table>\n",
       "</div>"
      ],
      "text/plain": [
       "Empty DataFrame\n",
       "Columns: [pickup_hour, pickup_location_id, rides]\n",
       "Index: []"
      ]
     },
     "execution_count": 14,
     "metadata": {},
     "output_type": "execute_result"
    }
   ],
   "source": [
    "ts_data.sort_values([\"pickup_location_id\", \"pickup_hour\"]).reset_index(drop=True)"
   ]
  },
  {
   "cell_type": "code",
   "execution_count": 15,
   "id": "3d526c4a-43f3-439a-a671-6e5d01e092be",
   "metadata": {},
   "outputs": [
    {
     "name": "stdout",
     "output_type": "stream",
     "text": [
      "<class 'pandas.core.frame.DataFrame'>\n",
      "RangeIndex: 0 entries\n",
      "Data columns (total 3 columns):\n",
      " #   Column              Non-Null Count  Dtype                  \n",
      "---  ------              --------------  -----                  \n",
      " 0   pickup_hour         0 non-null      datetime64[us, Etc/UTC]\n",
      " 1   pickup_location_id  0 non-null      int32                  \n",
      " 2   rides               0 non-null      int32                  \n",
      "dtypes: datetime64[us, Etc/UTC](1), int32(2)\n",
      "memory usage: 132.0 bytes\n"
     ]
    }
   ],
   "source": [
    "ts_data.info()"
   ]
  },
  {
   "cell_type": "code",
   "execution_count": 16,
   "id": "9d83c6e2-672c-488e-9d32-82e28db9050b",
   "metadata": {},
   "outputs": [],
   "source": [
    "ts_data[\"pickup_hour\"] = ts_data[\"pickup_hour\"].dt.tz_localize(None)"
   ]
  },
  {
   "cell_type": "code",
   "execution_count": 17,
   "id": "2be34e36-bb45-45a2-ab33-041ee17581fa",
   "metadata": {},
   "outputs": [
    {
     "name": "stdout",
     "output_type": "stream",
     "text": [
      "<class 'pandas.core.frame.DataFrame'>\n",
      "RangeIndex: 0 entries\n",
      "Data columns (total 3 columns):\n",
      " #   Column              Non-Null Count  Dtype         \n",
      "---  ------              --------------  -----         \n",
      " 0   pickup_hour         0 non-null      datetime64[us]\n",
      " 1   pickup_location_id  0 non-null      int32         \n",
      " 2   rides               0 non-null      int32         \n",
      "dtypes: datetime64[us](1), int32(2)\n",
      "memory usage: 132.0 bytes\n"
     ]
    }
   ],
   "source": [
    "ts_data.info()"
   ]
  },
  {
   "cell_type": "code",
   "execution_count": 19,
   "id": "51f920fc-cb6a-4154-ad41-1ad310b53341",
   "metadata": {},
   "outputs": [
    {
     "ename": "ValueError",
     "evalue": "No data could be transformed. Check if input DataFrame is empty or window size is too large.",
     "output_type": "error",
     "traceback": [
      "\u001b[31m---------------------------------------------------------------------------\u001b[39m",
      "\u001b[31mValueError\u001b[39m                                Traceback (most recent call last)",
      "\u001b[36mCell\u001b[39m\u001b[36m \u001b[39m\u001b[32mIn[19]\u001b[39m\u001b[32m, line 2\u001b[39m\n\u001b[32m      1\u001b[39m \u001b[38;5;28;01mfrom\u001b[39;00m\u001b[38;5;250m \u001b[39m\u001b[34;01msrc\u001b[39;00m\u001b[34;01m.\u001b[39;00m\u001b[34;01mdata_utils\u001b[39;00m\u001b[38;5;250m \u001b[39m\u001b[38;5;28;01mimport\u001b[39;00m transform_ts_data_info_features_and_target\n\u001b[32m----> \u001b[39m\u001b[32m2\u001b[39m features = \u001b[43mtransform_ts_data_info_features_and_target\u001b[49m\u001b[43m(\u001b[49m\u001b[43mts_data\u001b[49m\u001b[43m,\u001b[49m\u001b[43m \u001b[49m\u001b[43mwindow_size\u001b[49m\u001b[43m=\u001b[49m\u001b[32;43m24\u001b[39;49m\u001b[43m*\u001b[49m\u001b[32;43m27\u001b[39;49m\u001b[43m,\u001b[49m\u001b[43m \u001b[49m\u001b[43mstep_size\u001b[49m\u001b[43m=\u001b[49m\u001b[32;43m23\u001b[39;49m\u001b[43m)\u001b[49m\n",
      "\u001b[36mFile \u001b[39m\u001b[32md:\\EAS-500\\sp25_taxi-main\\src\\data_utils.py:400\u001b[39m, in \u001b[36mtransform_ts_data_info_features_and_target\u001b[39m\u001b[34m(df, feature_col, window_size, step_size)\u001b[39m\n\u001b[32m    394\u001b[39m     raise ValueError(\n\u001b[32m    395\u001b[39m         \"No data could be transformed. Check if input DataFrame is empty or window size is too large.\"\n\u001b[32m    396\u001b[39m     )\n\u001b[32m    398\u001b[39m final_df = pd.concat(transformed_data, ignore_index=True)\n\u001b[32m--> \u001b[39m\u001b[32m400\u001b[39m # Extract features (including pickup_hour), targets, and keep the complete DataFrame\n\u001b[32m    401\u001b[39m features = final_df[feature_columns + [\"pickup_hour\", \"pickup_location_id\"]]\n\u001b[32m    402\u001b[39m targets = final_df[\"target\"]\n",
      "\u001b[31mValueError\u001b[39m: No data could be transformed. Check if input DataFrame is empty or window size is too large."
     ]
    }
   ],
   "source": [
    "from src.data_utils import transform_ts_data_info_features_and_target\n",
    "features = transform_ts_data_info_features_and_target(ts_data, window_size=24*27, step_size=23)"
   ]
  },
  {
   "cell_type": "code",
   "execution_count": null,
   "id": "0ab084e9-5f62-44dc-a92c-1571b8fcf0f4",
   "metadata": {},
   "outputs": [],
   "source": [
    "features"
   ]
  },
  {
   "cell_type": "code",
   "execution_count": null,
   "id": "5747cb0c-7136-4dd2-b69b-a1334e5c7c91",
   "metadata": {},
   "outputs": [],
   "source": [
    "from src.inference import load_batch_of_features_from_store"
   ]
  },
  {
   "cell_type": "code",
   "execution_count": null,
   "id": "adbe0549-699a-4962-ba93-d45ffb154a29",
   "metadata": {},
   "outputs": [],
   "source": [
    "current_date"
   ]
  },
  {
   "cell_type": "code",
   "execution_count": null,
   "id": "e1a12209-0464-4839-ba30-5e1f5beed0a1",
   "metadata": {},
   "outputs": [],
   "source": [
    "features=load_batch_of_features_from_store(current_date)\n",
    "features"
   ]
  },
  {
   "cell_type": "code",
   "execution_count": null,
   "id": "c3a45fad-b8b5-4f84-ac16-0813757b609e",
   "metadata": {},
   "outputs": [],
   "source": [
    "from src.inference import load_model_from_registry\n",
    "model = load_model_from_registry()"
   ]
  },
  {
   "cell_type": "code",
   "execution_count": null,
   "id": "663b6ece-75b8-4f8c-8155-8e0efdf33d4f",
   "metadata": {},
   "outputs": [],
   "source": [
    "from src.inference import get_model_predictions\n",
    "predictions = get_model_predictions(model, features)"
   ]
  },
  {
   "cell_type": "code",
   "execution_count": null,
   "id": "f461706b-bf8d-4c5a-b0c9-bf1c81d2d965",
   "metadata": {},
   "outputs": [],
   "source": [
    "predictions"
   ]
  },
  {
   "cell_type": "code",
   "execution_count": null,
   "id": "c0b50c9a-8bc2-4324-b21a-31f0a1cb730a",
   "metadata": {},
   "outputs": [],
   "source": [
    "predictions.sort_values(\"predicted_demand\", ascending=False).head(10)[\"pickup_location_id\"].values"
   ]
  },
  {
   "cell_type": "code",
   "execution_count": null,
   "id": "29995b96-0877-4deb-9bae-c607091eee61",
   "metadata": {},
   "outputs": [],
   "source": []
  }
 ],
 "metadata": {
  "kernelspec": {
   "display_name": "con_env",
   "language": "python",
   "name": "python3"
  },
  "language_info": {
   "codemirror_mode": {
    "name": "ipython",
    "version": 3
   },
   "file_extension": ".py",
   "mimetype": "text/x-python",
   "name": "python",
   "nbconvert_exporter": "python",
   "pygments_lexer": "ipython3",
   "version": "3.11.9"
  }
 },
 "nbformat": 4,
 "nbformat_minor": 5
}
